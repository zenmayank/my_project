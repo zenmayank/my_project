{
 "nbformat": 4,
 "nbformat_minor": 0,
 "metadata": {
  "colab": {
   "provenance": [],
   "authorship_tag": "ABX9TyPJeMOtHihkzW4SVDIFdV1l"
  },
  "kernelspec": {
   "name": "python3",
   "display_name": "Python 3"
  },
  "language_info": {
   "name": "python"
  }
 },
 "cells": [
  {
   "cell_type": "code",
   "execution_count": 5,
   "metadata": {
    "id": "2OZ6n5mprr_3",
    "colab": {
     "base_uri": "https://localhost:8080/"
    },
    "executionInfo": {
     "status": "ok",
     "timestamp": 1749439769956,
     "user_tz": -330,
     "elapsed": 15329,
     "user": {
      "displayName": "mayank jain",
      "userId": "17946635192726345479"
     }
    },
    "outputId": "d026ccdf-7bb4-4e0e-c05e-b99c12f84bf7"
   },
   "outputs": [
    {
     "output_type": "stream",
     "name": "stdout",
     "text": [
      "Requirement already satisfied: pyspark in /usr/local/lib/python3.11/dist-packages (3.5.1)\n",
      "Collecting findspark\n",
      "  Downloading findspark-2.0.1-py2.py3-none-any.whl.metadata (352 bytes)\n",
      "Requirement already satisfied: py4j==0.10.9.7 in /usr/local/lib/python3.11/dist-packages (from pyspark) (0.10.9.7)\n",
      "Downloading findspark-2.0.1-py2.py3-none-any.whl (4.4 kB)\n",
      "Installing collected packages: findspark\n",
      "Successfully installed findspark-2.0.1\n"
     ]
    }
   ],
   "source": [
    "!pip install pyspark findspark\n",
    "import findspark\n",
    "findspark.init()\n",
    "from pyspark.sql import SparkSession\n",
    "from pyspark.sql.functions import col, lit, collect_list, concat_ws,col, floor, when, concat, array, expr, regexp_replace\n",
    "from functools import reduce\n",
    "\n",
    "spark = SparkSession.builder.appName(\"mj\").getOrCreate()"
   ]
  },
  {
   "cell_type": "code",
   "source": [
    "## reading csv\n",
    "albums=spark.read.format(\"csv\").option(\"header\",True).option(\"inferschema\",True).load('/content/spotify-albums_data_2023.csv')\n",
    "albums.show()\n",
    "track=spark.read.csv('/content/spotify_tracks_data_2023.csv',header=True,inferSchema=True)\n",
    "track.show()"
   ],
   "metadata": {
    "colab": {
     "base_uri": "https://localhost:8080/"
    },
    "id": "fTxcnmGVrz3p",
    "executionInfo": {
     "status": "ok",
     "timestamp": 1749440046968,
     "user_tz": -330,
     "elapsed": 5330,
     "user": {
      "displayName": "mayank jain",
      "userId": "17946635192726345479"
     }
    },
    "outputId": "8bf0f81c-154f-4abe-ae91-f986c3967777"
   },
   "execution_count": 10,
   "outputs": [
    {
     "output_type": "stream",
     "name": "stdout",
     "text": [
      "+--------------------+--------------------+------------+-----------+----------+-------+------------+--------------------+--------------------+-------------------+----------------+--------------------+--------------------+--------------+-------------------+-------------+----------------+--------+--------+--------+--------+--------+--------+---------+---------+------------+\n",
      "|          track_name|            track_id|track_number|duration_ms|album_type|artists|total_tracks|          album_name|        release_date|              label|album_popularity|            album_id|           artist_id|      artist_0|           artist_1|     artist_2|        artist_3|artist_4|artist_5|artist_6|artist_7|artist_8|artist_9|artist_10|artist_11|duration_sec|\n",
      "+--------------------+--------------------+------------+-----------+----------+-------+------------+--------------------+--------------------+-------------------+----------------+--------------------+--------------------+--------------+-------------------+-------------+----------------+--------+--------+--------+--------+--------+--------+---------+---------+------------+\n",
      "|       Amazing Grace|6mN8nzCXWUeT5LWEc...|           5|     555521|     album|   NULL|           9|Deep Peace Experi...|2015-06-09 00:00:...| Mountain Music Inc|               6|3VoHMFQzFr9v163HX...|002nyxOMwdc9EgNEo...|Radiancematrix|               NULL|         NULL|            NULL|    NULL|    NULL|    NULL|    NULL|    NULL|    NULL|     NULL|     NULL|     555.521|\n",
      "|        Silent Night|58sgjtx3FOnBBEOd3...|           8|     535041|     album|   NULL|           9|Deep Peace Experi...|2015-06-09 00:00:...| Mountain Music Inc|               6|3VoHMFQzFr9v163HX...|002nyxOMwdc9EgNEo...|Radiancematrix|               NULL|         NULL|            NULL|    NULL|    NULL|    NULL|    NULL|    NULL|    NULL|     NULL|     NULL|     535.041|\n",
      "|     Ancient Canyons|45tQJhm0WSk5VWMZK...|           1|     545855|     album|   NULL|           9|Deep Peace Experi...|2015-06-09 00:00:...| Mountain Music Inc|               6|3VoHMFQzFr9v163HX...|002nyxOMwdc9EgNEo...|Radiancematrix|               NULL|         NULL|            NULL|    NULL|    NULL|    NULL|    NULL|    NULL|    NULL|     NULL|     NULL|     545.855|\n",
      "| Pacha Mama Medicina|3VFD7QqkJSg0OR6yB...|           6|     305241|     album|   NULL|           9|Deep Peace Experi...|2015-06-09 00:00:...| Mountain Music Inc|               6|3VoHMFQzFr9v163HX...|002nyxOMwdc9EgNEo...|Radiancematrix|               NULL|         NULL|            NULL|    NULL|    NULL|    NULL|    NULL|    NULL|    NULL|     NULL|     NULL|     305.241|\n",
      "|     Palace Of Light|7LwJV5BEIC9BQnzva...|           7|     351060|     album|   NULL|           9|Deep Peace Experi...|2015-06-09 00:00:...| Mountain Music Inc|               6|3VoHMFQzFr9v163HX...|002nyxOMwdc9EgNEo...|Radiancematrix|               NULL|         NULL|            NULL|    NULL|    NULL|    NULL|    NULL|    NULL|    NULL|     NULL|     NULL|      351.06|\n",
      "|Jeweled Lotus (Om...|3I9hXJVjdNYnNfJ5P...|           2|     562887|     album|   NULL|           9|Deep Peace Experi...|2015-06-09 00:00:...| Mountain Music Inc|               6|3VoHMFQzFr9v163HX...|002nyxOMwdc9EgNEo...|Radiancematrix|               NULL|         NULL|            NULL|    NULL|    NULL|    NULL|    NULL|    NULL|    NULL|     NULL|     NULL|     562.887|\n",
      "|Loka (May All Bei...|0K3bvVuJZTrhK8S4y...|           9|     417908|     album|   NULL|           9|Deep Peace Experi...|2015-06-09 00:00:...| Mountain Music Inc|               6|3VoHMFQzFr9v163HX...|002nyxOMwdc9EgNEo...|Radiancematrix|               NULL|         NULL|            NULL|    NULL|    NULL|    NULL|    NULL|    NULL|    NULL|     NULL|     NULL|     417.908|\n",
      "|Shiva Radiance (I...|3Vke9b8vKfG5evYn5...|           4|     553509|     album|   NULL|           9|Deep Peace Experi...|2015-06-09 00:00:...| Mountain Music Inc|               6|3VoHMFQzFr9v163HX...|002nyxOMwdc9EgNEo...|Radiancematrix|               NULL|         NULL|            NULL|    NULL|    NULL|    NULL|    NULL|    NULL|    NULL|     NULL|     NULL|     553.509|\n",
      "|       Dream Healing|0z2oH4GgrXdWE0Fic...|           3|     581434|     album|   NULL|           9|Deep Peace Experi...|2015-06-09 00:00:...| Mountain Music Inc|               6|3VoHMFQzFr9v163HX...|002nyxOMwdc9EgNEo...|Radiancematrix|               NULL|         NULL|            NULL|    NULL|    NULL|    NULL|    NULL|    NULL|    NULL|     NULL|     NULL|     581.434|\n",
      "|  See The World Burn|6cCOUBWo2uSz8Eio8...|           9|     164217|     album|   NULL|          13|Black Sands: Offi...|2019-12-20 00:00:...|1521914 Records DK2|               2|3P7ScpNUSc9xEdVPD...|005nJcjkbJcDqEDV7...|        Ramond|Kent Washington III|         NULL|            NULL|    NULL|    NULL|    NULL|    NULL|    NULL|    NULL|     NULL|     NULL|     164.217|\n",
      "|         Black Sands|6T0w8wrJhIMiBqVmC...|          12|     151287|     album|   NULL|          13|Black Sands: Offi...|2019-12-20 00:00:...|1521914 Records DK2|               2|3P7ScpNUSc9xEdVPD...|005nJcjkbJcDqEDV7...|        Ramond|      Kid Astronaut|    Tai Marie|        DJ Zenas|    NULL|    NULL|    NULL|    NULL|    NULL|    NULL|     NULL|     NULL|     151.287|\n",
      "|         Squad Goals|1RDxImYrRLV8gpL5J...|           3|     257977|     album|   NULL|          13|Black Sands: Offi...|2019-12-20 00:00:...|1521914 Records DK2|               2|3P7ScpNUSc9xEdVPD...|005nJcjkbJcDqEDV7...|        Ramond|          Mxlcxlm Z| Jay Triiiple|Shyne TheGoddezz|    NULL|    NULL|    NULL|    NULL|    NULL|    NULL|     NULL|     NULL|     257.977|\n",
      "|            All Gold|3UYPhAxyuc7XTQX0R...|           6|     130462|     album|   NULL|          13|Black Sands: Offi...|2019-12-20 00:00:...|1521914 Records DK2|               2|3P7ScpNUSc9xEdVPD...|005nJcjkbJcDqEDV7...|        Ramond|              Lpeez|         NULL|            NULL|    NULL|    NULL|    NULL|    NULL|    NULL|    NULL|     NULL|     NULL|     130.462|\n",
      "|          Gladiators|5rVuUcCfe2SBd0I1Y...|           2|     216503|     album|   NULL|          13|Black Sands: Offi...|2019-12-20 00:00:...|1521914 Records DK2|               2|3P7ScpNUSc9xEdVPD...|005nJcjkbJcDqEDV7...|        Ramond|            A Meazy|         NULL|            NULL|    NULL|    NULL|    NULL|    NULL|    NULL|    NULL|     NULL|     NULL|     216.503|\n",
      "|               Power|5sRZJDjMfqeGqzcf7...|          10|     213052|     album|   NULL|          13|Black Sands: Offi...|2019-12-20 00:00:...|1521914 Records DK2|               2|3P7ScpNUSc9xEdVPD...|005nJcjkbJcDqEDV7...|        Ramond|              Lpeez|        Jelie|            NULL|    NULL|    NULL|    NULL|    NULL|    NULL|    NULL|     NULL|     NULL|     213.052|\n",
      "|         Bright Side|4zpLDzxAl6ZwaeWzL...|          11|     210557|     album|   NULL|          13|Black Sands: Offi...|2019-12-20 00:00:...|1521914 Records DK2|               2|3P7ScpNUSc9xEdVPD...|005nJcjkbJcDqEDV7...|        Ramond|              Champ|Sydnie Battie|            NULL|    NULL|    NULL|    NULL|    NULL|    NULL|    NULL|     NULL|     NULL|     210.557|\n",
      "|     Rumble In Kerma|62vwux2aauHam2wQK...|           8|     171977|     album|   NULL|          13|Black Sands: Offi...|2019-12-20 00:00:...|1521914 Records DK2|               2|3P7ScpNUSc9xEdVPD...|005nJcjkbJcDqEDV7...|        Ramond|               NULL|         NULL|            NULL|    NULL|    NULL|    NULL|    NULL|    NULL|    NULL|     NULL|     NULL|     171.977|\n",
      "|            The Coin|1sgVXkabERazto6eP...|           4|     243664|     album|   NULL|          13|Black Sands: Offi...|2019-12-20 00:00:...|1521914 Records DK2|               2|3P7ScpNUSc9xEdVPD...|005nJcjkbJcDqEDV7...|        Ramond|               NULL|         NULL|            NULL|    NULL|    NULL|    NULL|    NULL|    NULL|    NULL|     NULL|     NULL|     243.664|\n",
      "|    Kings And Queens|3yGRnVDOx6PqFjrC4...|          13|     195084|     album|   NULL|          13|Black Sands: Offi...|2019-12-20 00:00:...|1521914 Records DK2|               2|3P7ScpNUSc9xEdVPD...|005nJcjkbJcDqEDV7...|        Ramond|               NULL|         NULL|            NULL|    NULL|    NULL|    NULL|    NULL|    NULL|    NULL|     NULL|     NULL|     195.084|\n",
      "|               Reign|3CqlwRGISC92ue2s9...|           5|     261256|     album|   NULL|          13|Black Sands: Offi...|2019-12-20 00:00:...|1521914 Records DK2|               2|3P7ScpNUSc9xEdVPD...|005nJcjkbJcDqEDV7...|        Ramond|      Kid Astronaut|         NULL|            NULL|    NULL|    NULL|    NULL|    NULL|    NULL|    NULL|     NULL|     NULL|     261.256|\n",
      "+--------------------+--------------------+------------+-----------+----------+-------+------------+--------------------+--------------------+-------------------+----------------+--------------------+--------------------+--------------+-------------------+-------------+----------------+--------+--------+--------+--------+--------+--------+---------+---------+------------+\n",
      "only showing top 20 rows\n",
      "\n",
      "+--------------------+----------------+--------+\n",
      "|                  id|track_popularity|explicit|\n",
      "+--------------------+----------------+--------+\n",
      "|02MBhqgR7WeeI4ZfB...|               0|   false|\n",
      "|5j4M4gLYuUy9PVw0v...|               0|   false|\n",
      "|46EucLPJpx0QM3SCj...|               0|   false|\n",
      "|4nK2LvW3osgDT89S3...|               0|   false|\n",
      "|1Pq37WIQZDG7yNFnY...|               0|   false|\n",
      "|2BlVCk4aedlkMynOL...|               0|   false|\n",
      "|3Nt8fA4rKmuThkHxF...|               0|   false|\n",
      "|5ZHikLIzGAqbTphEr...|               0|   false|\n",
      "|2LcBaiAK9KqVzj5Td...|               0|   false|\n",
      "|5McTq9Mwsk1Tpu31y...|               0|   false|\n",
      "|3g1CrdpRNtMPRLole...|               0|   false|\n",
      "|6xThGKJB0m7ulzi4t...|               0|   false|\n",
      "|7zznHKZjl1OuMMb2p...|               0|   false|\n",
      "|5i6P9NULtzkZIfwOk...|               0|   false|\n",
      "|5117g3rjt37uAs1xv...|               0|   false|\n",
      "|5kFTiU6MmyJpFcek1...|               0|   false|\n",
      "|4BRwdTJKnBsTzxVxN...|               0|   false|\n",
      "|78WOZjqwC0RyftIcG...|               0|   false|\n",
      "|4m1597QAg0Kwtq3ES...|               0|   false|\n",
      "|6deS2lsipxcdGbsS8...|               0|   false|\n",
      "+--------------------+----------------+--------+\n",
      "only showing top 20 rows\n",
      "\n"
     ]
    }
   ]
  },
  {
   "cell_type": "code",
   "source": [
    "## droping dulicates\n",
    "dedup_albums = albums.dropDuplicates()\n",
    "dropped_null = dedup_albums.dropna(subset=['track_name','track_id','artist_id'])\n",
    "\n",
    "dedup_tracks = track.dropDuplicates()\n",
    "drop_null = dedup_tracks.dropna(subset=['id'])\n",
    "\n",
    "dropped_null.show()\n",
    "drop_null.show()"
   ],
   "metadata": {
    "colab": {
     "base_uri": "https://localhost:8080/"
    },
    "id": "zAa6aLYHrz0i",
    "executionInfo": {
     "status": "ok",
     "timestamp": 1749440105153,
     "user_tz": -330,
     "elapsed": 20768,
     "user": {
      "displayName": "mayank jain",
      "userId": "17946635192726345479"
     }
    },
    "outputId": "5819cb9a-6cf7-4df8-9644-da0171823437"
   },
   "execution_count": 12,
   "outputs": [
    {
     "output_type": "stream",
     "name": "stdout",
     "text": [
      "+--------------------+--------------------+------------+-----------+-----------+-------+------------+--------------------+--------------------+--------------------+----------------+--------------------+--------------------+------------------+-----------+--------+--------+--------+--------+--------+--------+--------+--------+---------+---------+------------+\n",
      "|          track_name|            track_id|track_number|duration_ms| album_type|artists|total_tracks|          album_name|        release_date|               label|album_popularity|            album_id|           artist_id|          artist_0|   artist_1|artist_2|artist_3|artist_4|artist_5|artist_6|artist_7|artist_8|artist_9|artist_10|artist_11|duration_sec|\n",
      "+--------------------+--------------------+------------+-----------+-----------+-------+------------+--------------------+--------------------+--------------------+----------------+--------------------+--------------------+------------------+-----------+--------+--------+--------+--------+--------+--------+--------+--------+---------+---------+------------+\n",
      "|Jack Is Dead - Or...|4ZmOXj5x6ER0DSQyD...|           1|     408712|     single|   NULL|           3|Deep House Sessio...|2012-03-15 00:00:...|Purple Gorilla Re...|               0|0pJsDp2HZWcjscjqj...|04rOJJh4mLlRvlO4W...|    Purple Gorilla|       NULL|    NULL|    NULL|    NULL|    NULL|    NULL|    NULL|    NULL|    NULL|     NULL|     NULL|     408.712|\n",
      "|   Anxiety Cleansing|3swob9rRdzvsxpG3V...|           5|      90947|      album|   NULL|          10|          Deep Relax|2023-08-01 00:00:...|  5673387 Records DK|              17|3FwJmWpxeuabEVQGl...|05hW3BQg4ZuQ0NW0c...|       Deep Purity|       NULL|    NULL|    NULL|    NULL|    NULL|    NULL|    NULL|    NULL|    NULL|     NULL|     NULL|      90.947|\n",
      "|The Ace Of Spades...|3qcEe3Ts28cJCvtgN...|           2|     185013|      album|   NULL|          20|Drew'S Famous # 1...|2011-07-26 00:00:...|        TUTM Karaoke|               0|0pNdSFGthImKG23Cl...|0GRelLAVHzwasg0Ja...|  The Karaoke Crew|       NULL|    NULL|    NULL|    NULL|    NULL|    NULL|    NULL|    NULL|    NULL|     NULL|     NULL|     185.013|\n",
      "|               Holly|38uVsyny2NPPNbqbo...|           4|     348136|compilation|   NULL|           5|Deeperfect Pickin...|2020-06-19 00:00:...|  Deeperfect Records|               3|0HxjY5kDhizVGoMHj...|0LyfQWJT6nXafLPZq...|      Sergio Saffe|       NULL|    NULL|    NULL|    NULL|    NULL|    NULL|    NULL|    NULL|    NULL|     NULL|     NULL|     348.136|\n",
      "|Lypsy Mare - Cons...|0FROeX645GpZIAg9K...|           5|     212137|compilation|   NULL|          20|Deep Power, Vol. ...|2019-08-23 00:00:...|             Dijamma|               2|0vJ3TvLiRujts3LF2...|0LyfQWJT6nXafLPZq...|          Beach 10|       NULL|    NULL|    NULL|    NULL|    NULL|    NULL|    NULL|    NULL|    NULL|     NULL|     NULL|     212.137|\n",
      "|          The Wizard|0fc3LuazGVoUrPWD9...|          10|     219716|compilation|   NULL|          18|Into The Void: A ...|2018-09-07 00:00:...|  Versailles Records|               3|2KaNw6LStEWSHDpzH...|0LyfQWJT6nXafLPZq...|      Erling Solem|       NULL|    NULL|    NULL|    NULL|    NULL|    NULL|    NULL|    NULL|    NULL|     NULL|     NULL|     219.716|\n",
      "|               Trust|38maR1Xutez5bw2M4...|           4|     388000|compilation|   NULL|          22|Deeperfect Ibiza ...|2016-08-26 00:00:...|  Deeperfect Records|               4|2aqck6H3c8xGPrJYT...|0LyfQWJT6nXafLPZq...|     Danny Serrano|       NULL|    NULL|    NULL|    NULL|    NULL|    NULL|    NULL|    NULL|    NULL|     NULL|     NULL|         388|\n",
      "|  Love And Affection|15PetISFNGdVtxHuS...|           7|     199963|compilation|   NULL|          12|Deep Purple Recor...|2022-07-15 00:00:...|  Cherry Red Records|               2|5wokgFgNofYNFKQcC...|0LyfQWJT6nXafLPZq...|       Reflections|       NULL|    NULL|    NULL|    NULL|    NULL|    NULL|    NULL|    NULL|    NULL|     NULL|     NULL|     199.963|\n",
      "|            On Paper|6VqcZem1yauBTceia...|           4|     372000|compilation|   NULL|           6|Deeperfect Pickin...|2019-11-01 00:00:...|  Deeperfect Records|               6|70CIhJcIKbnu9fNxm...|0LyfQWJT6nXafLPZq...|            Skizzo|       NULL|    NULL|    NULL|    NULL|    NULL|    NULL|    NULL|    NULL|    NULL|     NULL|     NULL|         372|\n",
      "|Deep Clockwork - ...|1Jfv853L3b52reZlN...|          18|     232000|compilation|   NULL|          30|Purple Skies (Lit...|2020-10-12 00:00:...|     Urban GorillazY|               0|7HNl5KwwS0XXu4Bya...|0LyfQWJT6nXafLPZq...|Counter from Venus|Moontronics|    NULL|    NULL|    NULL|    NULL|    NULL|    NULL|    NULL|    NULL|     NULL|     NULL|         232|\n",
      "|Killing Floor (In...|7gEMXTgKWzw1McaD1...|           3|     205759|      album|   NULL|          12|Instrumental Acou...|2014-06-20 00:00:...|       Sleek & Sound|               2|7q7uEMdsJod1ev38k...|0MM6aQIYElwSC4x4D...| AK & The LAX Bros|       NULL|    NULL|    NULL|    NULL|    NULL|    NULL|    NULL|    NULL|    NULL|     NULL|     NULL|     205.759|\n",
      "|      Planet Caravan|2qglsHYQICxqnfOtZ...|           8|     274924|      album|   NULL|          10|Lullaby Versions ...|2023-03-13 00:00:...|     Rock the Cradle|               0|0h6Krr83L4euREpl9...|0UeobiVDEhMVvaUa5...|   Rock the Cradle|       NULL|    NULL|    NULL|    NULL|    NULL|    NULL|    NULL|    NULL|    NULL|     NULL|     NULL|     274.924|\n",
      "|             Promise|4KtdVRAiYPiEJfwyV...|           8|     117000|      album|   NULL|          10|        Human Robots|2023-10-31 00:00:...|SushiBoyz Enterta...|              14|2ff8k3Z2tnJMpCTK5...|0c4XKfiGgVco2yYz6...|    Damien Hendrix|       NULL|    NULL|    NULL|    NULL|    NULL|    NULL|    NULL|    NULL|    NULL|     NULL|     NULL|         117|\n",
      "|     Different World|3isxh3s4MzNqwZDm8...|           9|     182893|      album|   NULL|          13|At Home With The ...|2008-10-06 00:00:...|   Letterbox Records|               0|1Qr6RbLUfOIn6HFOo...|0lApUlcr7qxQktia7...|   The Foster Kids|       NULL|    NULL|    NULL|    NULL|    NULL|    NULL|    NULL|    NULL|    NULL|     NULL|     NULL|     182.893|\n",
      "|    Times Like These|2JYaPlnbgXuW3Etf9...|          24|     267749|      album|   NULL|          37|Piano Renditions ...|2020-11-25 00:00:...|       Piano Project|              12|1lSKJf5DBVatYa63Y...|0sOfFTIMocxq5mPB8...|     Piano Project|       NULL|    NULL|    NULL|    NULL|    NULL|    NULL|    NULL|    NULL|    NULL|     NULL|     NULL|     267.749|\n",
      "|   I'Ll Stick Around|1Zj87NmGSNbF37KKi...|           3|     224662|      album|   NULL|          37|Piano Renditions ...|2020-11-25 00:00:...|       Piano Project|              12|1lSKJf5DBVatYa63Y...|0sOfFTIMocxq5mPB8...|     Piano Project|       NULL|    NULL|    NULL|    NULL|    NULL|    NULL|    NULL|    NULL|    NULL|     NULL|     NULL|     224.662|\n",
      "|  Gør Nu Ligesom Mig|1ES8vMnv55whAcWvV...|           5|     127800|      album|   NULL|          16|   Vi Cykler Deruda'|1990-01-01 00:00:...|MBO - The Music B...|              16|2ULFTduMUQWs1gCJH...|0w5Kp7bRzonhDur1l...|       Jimi & René|       NULL|    NULL|    NULL|    NULL|    NULL|    NULL|    NULL|    NULL|    NULL|     NULL|     NULL|       127.8|\n",
      "|         Little Wing|2gYAq8koKsDyPgwlR...|           1|     627250|     single|   NULL|           1|         Little Wing|2023-08-14 00:00:...|  1420847 Records DK|              21|4GwMk9GuObA2S09wn...|1Nplq0ZNsyu1LZUgm...|         Sean Mann|       NULL|    NULL|    NULL|    NULL|    NULL|    NULL|    NULL|    NULL|    NULL|     NULL|     NULL|      627.25|\n",
      "|     The Entertainer|3adqAUY8txHeHn4fK...|           3|     193226|      album|   NULL|          12|Appalachian Favor...|2009-08-08 00:00:...|Maple Street Musi...|               3|4MlT9rnbvFyPSPPOL...|1b0s02qk4DJn7nRUc...|     Jim Hendricks|       NULL|    NULL|    NULL|    NULL|    NULL|    NULL|    NULL|    NULL|    NULL|     NULL|     NULL|     193.226|\n",
      "|          Love Chain|3hrANkKKhFrsvOotu...|           8|     200015|      album|   NULL|          12|Jimmy Griffin The...|2023-03-01 00:00:...|Wraysong Records LLC|               1|1beo4WyHOHHTFG4f1...|1rI3ADlepIisFTBNk...|     Jimmy Griffin|       NULL|    NULL|    NULL|    NULL|    NULL|    NULL|    NULL|    NULL|    NULL|     NULL|     NULL|     200.015|\n",
      "+--------------------+--------------------+------------+-----------+-----------+-------+------------+--------------------+--------------------+--------------------+----------------+--------------------+--------------------+------------------+-----------+--------+--------+--------+--------+--------+--------+--------+--------+---------+---------+------------+\n",
      "only showing top 20 rows\n",
      "\n",
      "+--------------------+----------------+--------+\n",
      "|                  id|track_popularity|explicit|\n",
      "+--------------------+----------------+--------+\n",
      "|2jyFlC4ZwNQcYRlr3...|               0|   false|\n",
      "|00696DuLr2zDTLtoV...|               0|   false|\n",
      "|6vo2knPgfoe3bvTj1...|               0|   false|\n",
      "|0mBdsFHVikbdkwM1w...|               0|   false|\n",
      "|6uXmLbMo6LS7ZyF03...|               0|   false|\n",
      "|1gqlqjJbWXQGCu1L1...|               0|   false|\n",
      "|7rT9hcZ6v8S4b95F9...|               0|   false|\n",
      "|7aFR4tHJp14TBPZCa...|               0|   false|\n",
      "|0tVj6mHAZNQ4cvWuI...|               0|   false|\n",
      "|2kxGVF02kXWenkd9h...|               0|   false|\n",
      "|49ffYtohARArKPjPI...|               0|   false|\n",
      "|0Qkd7HXXf1WK8YmlK...|               0|   false|\n",
      "|6X3S6wJWf9lVuu7iy...|               0|   false|\n",
      "|05MdEdMzLEqqScXRG...|               0|   false|\n",
      "|7DuCPwvfrxxnF3cuN...|               0|   false|\n",
      "|2aCkrwVzNuOVyMWUn...|               0|   false|\n",
      "|06kk7iUPrJZRTZaHf...|               0|   false|\n",
      "|13RggN5t5D5Dd3URH...|               0|   false|\n",
      "|2gFaymbF6wVIQDGRu...|               0|   false|\n",
      "|5NQG8ng0HCxCmOEsA...|               0|   false|\n",
      "+--------------------+----------------+--------+\n",
      "only showing top 20 rows\n",
      "\n"
     ]
    }
   ]
  },
  {
   "cell_type": "code",
   "source": [
    "## merging all the featured artists columns in featured_artists column\n",
    "\n",
    "featured_artist = dropped_null.withColumn(\"featured_artists_array\", array([f\"artist_{i}\" for i in range(1, 12)])) \\\n",
    "       .withColumn(\"featured_artists\", expr(\"concat_ws(', ', filter(featured_artists_array, x -> x is not null))\")) \\\n",
    "       .drop(*[f\"artist_{i}\" for i in range(1, 12)], \"featured_artists_array\")\\\n",
    "\n",
    "#featured_artist.orderBy(col(\"duration_ms\").desc()).show()\n",
    "featured_artist.show()\n"
   ],
   "metadata": {
    "colab": {
     "base_uri": "https://localhost:8080/"
    },
    "id": "7z3_JsAqrzxl",
    "executionInfo": {
     "status": "ok",
     "timestamp": 1749440122534,
     "user_tz": -330,
     "elapsed": 9913,
     "user": {
      "displayName": "mayank jain",
      "userId": "17946635192726345479"
     }
    },
    "outputId": "bb5cab24-3432-4294-8f48-60e2c61f0a3b"
   },
   "execution_count": 13,
   "outputs": [
    {
     "output_type": "stream",
     "name": "stdout",
     "text": [
      "+--------------------+--------------------+------------+-----------+-----------+-------+------------+--------------------+--------------------+--------------------+----------------+--------------------+--------------------+------------------+------------+----------------+\n",
      "|          track_name|            track_id|track_number|duration_ms| album_type|artists|total_tracks|          album_name|        release_date|               label|album_popularity|            album_id|           artist_id|          artist_0|duration_sec|featured_artists|\n",
      "+--------------------+--------------------+------------+-----------+-----------+-------+------------+--------------------+--------------------+--------------------+----------------+--------------------+--------------------+------------------+------------+----------------+\n",
      "|Jack Is Dead - Or...|4ZmOXj5x6ER0DSQyD...|           1|     408712|     single|   NULL|           3|Deep House Sessio...|2012-03-15 00:00:...|Purple Gorilla Re...|               0|0pJsDp2HZWcjscjqj...|04rOJJh4mLlRvlO4W...|    Purple Gorilla|     408.712|                |\n",
      "|   Anxiety Cleansing|3swob9rRdzvsxpG3V...|           5|      90947|      album|   NULL|          10|          Deep Relax|2023-08-01 00:00:...|  5673387 Records DK|              17|3FwJmWpxeuabEVQGl...|05hW3BQg4ZuQ0NW0c...|       Deep Purity|      90.947|                |\n",
      "|The Ace Of Spades...|3qcEe3Ts28cJCvtgN...|           2|     185013|      album|   NULL|          20|Drew'S Famous # 1...|2011-07-26 00:00:...|        TUTM Karaoke|               0|0pNdSFGthImKG23Cl...|0GRelLAVHzwasg0Ja...|  The Karaoke Crew|     185.013|                |\n",
      "|               Holly|38uVsyny2NPPNbqbo...|           4|     348136|compilation|   NULL|           5|Deeperfect Pickin...|2020-06-19 00:00:...|  Deeperfect Records|               3|0HxjY5kDhizVGoMHj...|0LyfQWJT6nXafLPZq...|      Sergio Saffe|     348.136|                |\n",
      "|Lypsy Mare - Cons...|0FROeX645GpZIAg9K...|           5|     212137|compilation|   NULL|          20|Deep Power, Vol. ...|2019-08-23 00:00:...|             Dijamma|               2|0vJ3TvLiRujts3LF2...|0LyfQWJT6nXafLPZq...|          Beach 10|     212.137|                |\n",
      "|          The Wizard|0fc3LuazGVoUrPWD9...|          10|     219716|compilation|   NULL|          18|Into The Void: A ...|2018-09-07 00:00:...|  Versailles Records|               3|2KaNw6LStEWSHDpzH...|0LyfQWJT6nXafLPZq...|      Erling Solem|     219.716|                |\n",
      "|               Trust|38maR1Xutez5bw2M4...|           4|     388000|compilation|   NULL|          22|Deeperfect Ibiza ...|2016-08-26 00:00:...|  Deeperfect Records|               4|2aqck6H3c8xGPrJYT...|0LyfQWJT6nXafLPZq...|     Danny Serrano|         388|                |\n",
      "|  Love And Affection|15PetISFNGdVtxHuS...|           7|     199963|compilation|   NULL|          12|Deep Purple Recor...|2022-07-15 00:00:...|  Cherry Red Records|               2|5wokgFgNofYNFKQcC...|0LyfQWJT6nXafLPZq...|       Reflections|     199.963|                |\n",
      "|            On Paper|6VqcZem1yauBTceia...|           4|     372000|compilation|   NULL|           6|Deeperfect Pickin...|2019-11-01 00:00:...|  Deeperfect Records|               6|70CIhJcIKbnu9fNxm...|0LyfQWJT6nXafLPZq...|            Skizzo|         372|                |\n",
      "|Deep Clockwork - ...|1Jfv853L3b52reZlN...|          18|     232000|compilation|   NULL|          30|Purple Skies (Lit...|2020-10-12 00:00:...|     Urban GorillazY|               0|7HNl5KwwS0XXu4Bya...|0LyfQWJT6nXafLPZq...|Counter from Venus|         232|     Moontronics|\n",
      "|Killing Floor (In...|7gEMXTgKWzw1McaD1...|           3|     205759|      album|   NULL|          12|Instrumental Acou...|2014-06-20 00:00:...|       Sleek & Sound|               2|7q7uEMdsJod1ev38k...|0MM6aQIYElwSC4x4D...| AK & The LAX Bros|     205.759|                |\n",
      "|      Planet Caravan|2qglsHYQICxqnfOtZ...|           8|     274924|      album|   NULL|          10|Lullaby Versions ...|2023-03-13 00:00:...|     Rock the Cradle|               0|0h6Krr83L4euREpl9...|0UeobiVDEhMVvaUa5...|   Rock the Cradle|     274.924|                |\n",
      "|             Promise|4KtdVRAiYPiEJfwyV...|           8|     117000|      album|   NULL|          10|        Human Robots|2023-10-31 00:00:...|SushiBoyz Enterta...|              14|2ff8k3Z2tnJMpCTK5...|0c4XKfiGgVco2yYz6...|    Damien Hendrix|         117|                |\n",
      "|     Different World|3isxh3s4MzNqwZDm8...|           9|     182893|      album|   NULL|          13|At Home With The ...|2008-10-06 00:00:...|   Letterbox Records|               0|1Qr6RbLUfOIn6HFOo...|0lApUlcr7qxQktia7...|   The Foster Kids|     182.893|                |\n",
      "|    Times Like These|2JYaPlnbgXuW3Etf9...|          24|     267749|      album|   NULL|          37|Piano Renditions ...|2020-11-25 00:00:...|       Piano Project|              12|1lSKJf5DBVatYa63Y...|0sOfFTIMocxq5mPB8...|     Piano Project|     267.749|                |\n",
      "|   I'Ll Stick Around|1Zj87NmGSNbF37KKi...|           3|     224662|      album|   NULL|          37|Piano Renditions ...|2020-11-25 00:00:...|       Piano Project|              12|1lSKJf5DBVatYa63Y...|0sOfFTIMocxq5mPB8...|     Piano Project|     224.662|                |\n",
      "|  Gør Nu Ligesom Mig|1ES8vMnv55whAcWvV...|           5|     127800|      album|   NULL|          16|   Vi Cykler Deruda'|1990-01-01 00:00:...|MBO - The Music B...|              16|2ULFTduMUQWs1gCJH...|0w5Kp7bRzonhDur1l...|       Jimi & René|       127.8|                |\n",
      "|         Little Wing|2gYAq8koKsDyPgwlR...|           1|     627250|     single|   NULL|           1|         Little Wing|2023-08-14 00:00:...|  1420847 Records DK|              21|4GwMk9GuObA2S09wn...|1Nplq0ZNsyu1LZUgm...|         Sean Mann|      627.25|                |\n",
      "|     The Entertainer|3adqAUY8txHeHn4fK...|           3|     193226|      album|   NULL|          12|Appalachian Favor...|2009-08-08 00:00:...|Maple Street Musi...|               3|4MlT9rnbvFyPSPPOL...|1b0s02qk4DJn7nRUc...|     Jim Hendricks|     193.226|                |\n",
      "|          Love Chain|3hrANkKKhFrsvOotu...|           8|     200015|      album|   NULL|          12|Jimmy Griffin The...|2023-03-01 00:00:...|Wraysong Records LLC|               1|1beo4WyHOHHTFG4f1...|1rI3ADlepIisFTBNk...|     Jimmy Griffin|     200.015|                |\n",
      "+--------------------+--------------------+------------+-----------+-----------+-------+------------+--------------------+--------------------+--------------------+----------------+--------------------+--------------------+------------------+------------+----------------+\n",
      "only showing top 20 rows\n",
      "\n"
     ]
    }
   ]
  },
  {
   "cell_type": "code",
   "source": [
    "## renaming artist_0 column\n",
    "featured_artist = featured_artist.withColumnRenamed(\"artist_0\",\"main_artist\")\n",
    "featured_artist.show()"
   ],
   "metadata": {
    "id": "-A8fdlf7vcqt",
    "colab": {
     "base_uri": "https://localhost:8080/"
    },
    "executionInfo": {
     "status": "ok",
     "timestamp": 1749440319236,
     "user_tz": -330,
     "elapsed": 7322,
     "user": {
      "displayName": "mayank jain",
      "userId": "17946635192726345479"
     }
    },
    "outputId": "1bb98879-60e4-411a-b256-cf53aff62724"
   },
   "execution_count": 17,
   "outputs": [
    {
     "output_type": "stream",
     "name": "stdout",
     "text": [
      "+--------------------+--------------------+------------+-----------+-----------+-------+------------+--------------------+--------------------+--------------------+----------------+--------------------+--------------------+------------------+------------+----------------+\n",
      "|          track_name|            track_id|track_number|duration_ms| album_type|artists|total_tracks|          album_name|        release_date|               label|album_popularity|            album_id|           artist_id|       main_artist|duration_sec|featured_artists|\n",
      "+--------------------+--------------------+------------+-----------+-----------+-------+------------+--------------------+--------------------+--------------------+----------------+--------------------+--------------------+------------------+------------+----------------+\n",
      "|Jack Is Dead - Or...|4ZmOXj5x6ER0DSQyD...|           1|     408712|     single|   NULL|           3|Deep House Sessio...|2012-03-15 00:00:...|Purple Gorilla Re...|               0|0pJsDp2HZWcjscjqj...|04rOJJh4mLlRvlO4W...|    Purple Gorilla|     408.712|                |\n",
      "|   Anxiety Cleansing|3swob9rRdzvsxpG3V...|           5|      90947|      album|   NULL|          10|          Deep Relax|2023-08-01 00:00:...|  5673387 Records DK|              17|3FwJmWpxeuabEVQGl...|05hW3BQg4ZuQ0NW0c...|       Deep Purity|      90.947|                |\n",
      "|The Ace Of Spades...|3qcEe3Ts28cJCvtgN...|           2|     185013|      album|   NULL|          20|Drew'S Famous # 1...|2011-07-26 00:00:...|        TUTM Karaoke|               0|0pNdSFGthImKG23Cl...|0GRelLAVHzwasg0Ja...|  The Karaoke Crew|     185.013|                |\n",
      "|               Holly|38uVsyny2NPPNbqbo...|           4|     348136|compilation|   NULL|           5|Deeperfect Pickin...|2020-06-19 00:00:...|  Deeperfect Records|               3|0HxjY5kDhizVGoMHj...|0LyfQWJT6nXafLPZq...|      Sergio Saffe|     348.136|                |\n",
      "|Lypsy Mare - Cons...|0FROeX645GpZIAg9K...|           5|     212137|compilation|   NULL|          20|Deep Power, Vol. ...|2019-08-23 00:00:...|             Dijamma|               2|0vJ3TvLiRujts3LF2...|0LyfQWJT6nXafLPZq...|          Beach 10|     212.137|                |\n",
      "|          The Wizard|0fc3LuazGVoUrPWD9...|          10|     219716|compilation|   NULL|          18|Into The Void: A ...|2018-09-07 00:00:...|  Versailles Records|               3|2KaNw6LStEWSHDpzH...|0LyfQWJT6nXafLPZq...|      Erling Solem|     219.716|                |\n",
      "|               Trust|38maR1Xutez5bw2M4...|           4|     388000|compilation|   NULL|          22|Deeperfect Ibiza ...|2016-08-26 00:00:...|  Deeperfect Records|               4|2aqck6H3c8xGPrJYT...|0LyfQWJT6nXafLPZq...|     Danny Serrano|         388|                |\n",
      "|  Love And Affection|15PetISFNGdVtxHuS...|           7|     199963|compilation|   NULL|          12|Deep Purple Recor...|2022-07-15 00:00:...|  Cherry Red Records|               2|5wokgFgNofYNFKQcC...|0LyfQWJT6nXafLPZq...|       Reflections|     199.963|                |\n",
      "|            On Paper|6VqcZem1yauBTceia...|           4|     372000|compilation|   NULL|           6|Deeperfect Pickin...|2019-11-01 00:00:...|  Deeperfect Records|               6|70CIhJcIKbnu9fNxm...|0LyfQWJT6nXafLPZq...|            Skizzo|         372|                |\n",
      "|Deep Clockwork - ...|1Jfv853L3b52reZlN...|          18|     232000|compilation|   NULL|          30|Purple Skies (Lit...|2020-10-12 00:00:...|     Urban GorillazY|               0|7HNl5KwwS0XXu4Bya...|0LyfQWJT6nXafLPZq...|Counter from Venus|         232|     Moontronics|\n",
      "|Killing Floor (In...|7gEMXTgKWzw1McaD1...|           3|     205759|      album|   NULL|          12|Instrumental Acou...|2014-06-20 00:00:...|       Sleek & Sound|               2|7q7uEMdsJod1ev38k...|0MM6aQIYElwSC4x4D...| AK & The LAX Bros|     205.759|                |\n",
      "|      Planet Caravan|2qglsHYQICxqnfOtZ...|           8|     274924|      album|   NULL|          10|Lullaby Versions ...|2023-03-13 00:00:...|     Rock the Cradle|               0|0h6Krr83L4euREpl9...|0UeobiVDEhMVvaUa5...|   Rock the Cradle|     274.924|                |\n",
      "|             Promise|4KtdVRAiYPiEJfwyV...|           8|     117000|      album|   NULL|          10|        Human Robots|2023-10-31 00:00:...|SushiBoyz Enterta...|              14|2ff8k3Z2tnJMpCTK5...|0c4XKfiGgVco2yYz6...|    Damien Hendrix|         117|                |\n",
      "|     Different World|3isxh3s4MzNqwZDm8...|           9|     182893|      album|   NULL|          13|At Home With The ...|2008-10-06 00:00:...|   Letterbox Records|               0|1Qr6RbLUfOIn6HFOo...|0lApUlcr7qxQktia7...|   The Foster Kids|     182.893|                |\n",
      "|    Times Like These|2JYaPlnbgXuW3Etf9...|          24|     267749|      album|   NULL|          37|Piano Renditions ...|2020-11-25 00:00:...|       Piano Project|              12|1lSKJf5DBVatYa63Y...|0sOfFTIMocxq5mPB8...|     Piano Project|     267.749|                |\n",
      "|   I'Ll Stick Around|1Zj87NmGSNbF37KKi...|           3|     224662|      album|   NULL|          37|Piano Renditions ...|2020-11-25 00:00:...|       Piano Project|              12|1lSKJf5DBVatYa63Y...|0sOfFTIMocxq5mPB8...|     Piano Project|     224.662|                |\n",
      "|  Gør Nu Ligesom Mig|1ES8vMnv55whAcWvV...|           5|     127800|      album|   NULL|          16|   Vi Cykler Deruda'|1990-01-01 00:00:...|MBO - The Music B...|              16|2ULFTduMUQWs1gCJH...|0w5Kp7bRzonhDur1l...|       Jimi & René|       127.8|                |\n",
      "|         Little Wing|2gYAq8koKsDyPgwlR...|           1|     627250|     single|   NULL|           1|         Little Wing|2023-08-14 00:00:...|  1420847 Records DK|              21|4GwMk9GuObA2S09wn...|1Nplq0ZNsyu1LZUgm...|         Sean Mann|      627.25|                |\n",
      "|     The Entertainer|3adqAUY8txHeHn4fK...|           3|     193226|      album|   NULL|          12|Appalachian Favor...|2009-08-08 00:00:...|Maple Street Musi...|               3|4MlT9rnbvFyPSPPOL...|1b0s02qk4DJn7nRUc...|     Jim Hendricks|     193.226|                |\n",
      "|          Love Chain|3hrANkKKhFrsvOotu...|           8|     200015|      album|   NULL|          12|Jimmy Griffin The...|2023-03-01 00:00:...|Wraysong Records LLC|               1|1beo4WyHOHHTFG4f1...|1rI3ADlepIisFTBNk...|     Jimmy Griffin|     200.015|                |\n",
      "+--------------------+--------------------+------------+-----------+-----------+-------+------------+--------------------+--------------------+--------------------+----------------+--------------------+--------------------+------------------+------------+----------------+\n",
      "only showing top 20 rows\n",
      "\n"
     ]
    }
   ]
  },
  {
   "cell_type": "code",
   "source": [
    "''' Convert ms to total seconds\n",
    "total_seconds = floor((col(\"duration_ms\").cast(\"integer\") / 1000).cast(\"integer\"))\n",
    "\n",
    "# Extract minutes and seconds\n",
    "minutes = floor(total_seconds / 60).cast(\"integer\")\n",
    "seconds = floor(total_seconds % 60).cast(\"integer\")\n",
    "\n",
    "# Format seconds with leading zero\n",
    "formatted_seconds = when(seconds < 10, lit(\"0\") + seconds.cast(\"string\")) \\\n",
    "                    .otherwise(seconds.cast(\"string\"))\n",
    "#formatted_seconds = floor(formatted_seconds)\n",
    "\n",
    "# Combine into MM:SS format\n",
    "featured_artist = featured_artist.withColumn(\n",
    "    \"duration\",\n",
    "    concat(minutes.cast(\"string\"), lit(\":\"), formatted_seconds.cast(\"string\"))\n",
    ").withColumn(\"formatted_seconds\", seconds)\n",
    "featured_artist.show()\n",
    "'''"
   ],
   "metadata": {
    "id": "kZkJPV8PvciV",
    "colab": {
     "base_uri": "https://localhost:8080/"
    },
    "executionInfo": {
     "status": "ok",
     "timestamp": 1749399179998,
     "user_tz": -330,
     "elapsed": 8826,
     "user": {
      "displayName": "mayank jain",
      "userId": "17946635192726345479"
     }
    },
    "outputId": "00be916d-283a-44a4-8289-6fb54ca606d9"
   },
   "execution_count": null,
   "outputs": [
    {
     "output_type": "stream",
     "name": "stdout",
     "text": [
      "+--------------------+--------------------+------------+-----------+-----------+-------+------------+--------------------+--------------------+--------------------+----------------+--------------------+--------------------+------------------+------------+----------------+--------+-------------+-----------------+\n",
      "|          track_name|            track_id|track_number|duration_ms| album_type|artists|total_tracks|          album_name|        release_date|               label|album_popularity|            album_id|           artist_id|       main_artist|duration_sec|featured_artists|duration|seconds_debug|formatted_seconds|\n",
      "+--------------------+--------------------+------------+-----------+-----------+-------+------------+--------------------+--------------------+--------------------+----------------+--------------------+--------------------+------------------+------------+----------------+--------+-------------+-----------------+\n",
      "|Jack Is Dead - Or...|4ZmOXj5x6ER0DSQyD...|           1|     408712|     single|   NULL|           3|Deep House Sessio...|2012-03-15 00:00:...|Purple Gorilla Re...|               0|0pJsDp2HZWcjscjqj...|04rOJJh4mLlRvlO4W...|    Purple Gorilla|     408.712|                |    6:48|           48|               48|\n",
      "|   Anxiety Cleansing|3swob9rRdzvsxpG3V...|           5|      90947|      album|   NULL|          10|          Deep Relax|2023-08-01 00:00:...|  5673387 Records DK|              17|3FwJmWpxeuabEVQGl...|05hW3BQg4ZuQ0NW0c...|       Deep Purity|      90.947|                |    1:30|           30|               30|\n",
      "|The Ace Of Spades...|3qcEe3Ts28cJCvtgN...|           2|     185013|      album|   NULL|          20|Drew'S Famous # 1...|2011-07-26 00:00:...|        TUTM Karaoke|               0|0pNdSFGthImKG23Cl...|0GRelLAVHzwasg0Ja...|  The Karaoke Crew|     185.013|                |   3:5.0|            5|                5|\n",
      "|               Holly|38uVsyny2NPPNbqbo...|           4|     348136|compilation|   NULL|           5|Deeperfect Pickin...|2020-06-19 00:00:...|  Deeperfect Records|               3|0HxjY5kDhizVGoMHj...|0LyfQWJT6nXafLPZq...|      Sergio Saffe|     348.136|                |    5:48|           48|               48|\n",
      "|Lypsy Mare - Cons...|0FROeX645GpZIAg9K...|           5|     212137|compilation|   NULL|          20|Deep Power, Vol. ...|2019-08-23 00:00:...|             Dijamma|               2|0vJ3TvLiRujts3LF2...|0LyfQWJT6nXafLPZq...|          Beach 10|     212.137|                |    3:32|           32|               32|\n",
      "|          The Wizard|0fc3LuazGVoUrPWD9...|          10|     219716|compilation|   NULL|          18|Into The Void: A ...|2018-09-07 00:00:...|  Versailles Records|               3|2KaNw6LStEWSHDpzH...|0LyfQWJT6nXafLPZq...|      Erling Solem|     219.716|                |    3:39|           39|               39|\n",
      "|               Trust|38maR1Xutez5bw2M4...|           4|     388000|compilation|   NULL|          22|Deeperfect Ibiza ...|2016-08-26 00:00:...|  Deeperfect Records|               4|2aqck6H3c8xGPrJYT...|0LyfQWJT6nXafLPZq...|     Danny Serrano|         388|                |    6:28|           28|               28|\n",
      "|  Love And Affection|15PetISFNGdVtxHuS...|           7|     199963|compilation|   NULL|          12|Deep Purple Recor...|2022-07-15 00:00:...|  Cherry Red Records|               2|5wokgFgNofYNFKQcC...|0LyfQWJT6nXafLPZq...|       Reflections|     199.963|                |    3:19|           19|               19|\n",
      "|            On Paper|6VqcZem1yauBTceia...|           4|     372000|compilation|   NULL|           6|Deeperfect Pickin...|2019-11-01 00:00:...|  Deeperfect Records|               6|70CIhJcIKbnu9fNxm...|0LyfQWJT6nXafLPZq...|            Skizzo|         372|                |    6:12|           12|               12|\n",
      "|Deep Clockwork - ...|1Jfv853L3b52reZlN...|          18|     232000|compilation|   NULL|          30|Purple Skies (Lit...|2020-10-12 00:00:...|     Urban GorillazY|               0|7HNl5KwwS0XXu4Bya...|0LyfQWJT6nXafLPZq...|Counter from Venus|         232|     Moontronics|    3:52|           52|               52|\n",
      "|Killing Floor (In...|7gEMXTgKWzw1McaD1...|           3|     205759|      album|   NULL|          12|Instrumental Acou...|2014-06-20 00:00:...|       Sleek & Sound|               2|7q7uEMdsJod1ev38k...|0MM6aQIYElwSC4x4D...| AK & The LAX Bros|     205.759|                |    3:25|           25|               25|\n",
      "|      Planet Caravan|2qglsHYQICxqnfOtZ...|           8|     274924|      album|   NULL|          10|Lullaby Versions ...|2023-03-13 00:00:...|     Rock the Cradle|               0|0h6Krr83L4euREpl9...|0UeobiVDEhMVvaUa5...|   Rock the Cradle|     274.924|                |    4:34|           34|               34|\n",
      "|             Promise|4KtdVRAiYPiEJfwyV...|           8|     117000|      album|   NULL|          10|        Human Robots|2023-10-31 00:00:...|SushiBoyz Enterta...|              14|2ff8k3Z2tnJMpCTK5...|0c4XKfiGgVco2yYz6...|    Damien Hendrix|         117|                |    1:57|           57|               57|\n",
      "|     Different World|3isxh3s4MzNqwZDm8...|           9|     182893|      album|   NULL|          13|At Home With The ...|2008-10-06 00:00:...|   Letterbox Records|               0|1Qr6RbLUfOIn6HFOo...|0lApUlcr7qxQktia7...|   The Foster Kids|     182.893|                |   3:2.0|            2|                2|\n",
      "|    Times Like These|2JYaPlnbgXuW3Etf9...|          24|     267749|      album|   NULL|          37|Piano Renditions ...|2020-11-25 00:00:...|       Piano Project|              12|1lSKJf5DBVatYa63Y...|0sOfFTIMocxq5mPB8...|     Piano Project|     267.749|                |    4:27|           27|               27|\n",
      "|   I'Ll Stick Around|1Zj87NmGSNbF37KKi...|           3|     224662|      album|   NULL|          37|Piano Renditions ...|2020-11-25 00:00:...|       Piano Project|              12|1lSKJf5DBVatYa63Y...|0sOfFTIMocxq5mPB8...|     Piano Project|     224.662|                |    3:44|           44|               44|\n",
      "|  Gør Nu Ligesom Mig|1ES8vMnv55whAcWvV...|           5|     127800|      album|   NULL|          16|   Vi Cykler Deruda'|1990-01-01 00:00:...|MBO - The Music B...|              16|2ULFTduMUQWs1gCJH...|0w5Kp7bRzonhDur1l...|       Jimi & René|       127.8|                |   2:7.0|            7|                7|\n",
      "|         Little Wing|2gYAq8koKsDyPgwlR...|           1|     627250|     single|   NULL|           1|         Little Wing|2023-08-14 00:00:...|  1420847 Records DK|              21|4GwMk9GuObA2S09wn...|1Nplq0ZNsyu1LZUgm...|         Sean Mann|      627.25|                |   10:27|           27|               27|\n",
      "|     The Entertainer|3adqAUY8txHeHn4fK...|           3|     193226|      album|   NULL|          12|Appalachian Favor...|2009-08-08 00:00:...|Maple Street Musi...|               3|4MlT9rnbvFyPSPPOL...|1b0s02qk4DJn7nRUc...|     Jim Hendricks|     193.226|                |    3:13|           13|               13|\n",
      "|          Love Chain|3hrANkKKhFrsvOotu...|           8|     200015|      album|   NULL|          12|Jimmy Griffin The...|2023-03-01 00:00:...|Wraysong Records LLC|               1|1beo4WyHOHHTFG4f1...|1rI3ADlepIisFTBNk...|     Jimmy Griffin|     200.015|                |    3:20|           20|               20|\n",
      "+--------------------+--------------------+------------+-----------+-----------+-------+------------+--------------------+--------------------+--------------------+----------------+--------------------+--------------------+------------------+------------+----------------+--------+-------------+-----------------+\n",
      "only showing top 20 rows\n",
      "\n"
     ]
    }
   ]
  },
  {
   "cell_type": "code",
   "source": [
    "## droping extra cols\n",
    "clean_album=featured_artist.drop('artists','duration_sec')\n",
    "clean_album.show()"
   ],
   "metadata": {
    "id": "gZU0f8BhvcfD",
    "colab": {
     "base_uri": "https://localhost:8080/"
    },
    "executionInfo": {
     "status": "ok",
     "timestamp": 1749440604661,
     "user_tz": -330,
     "elapsed": 8815,
     "user": {
      "displayName": "mayank jain",
      "userId": "17946635192726345479"
     }
    },
    "outputId": "12ee906a-7e71-47f0-a23d-d49bfc0d956a"
   },
   "execution_count": 23,
   "outputs": [
    {
     "output_type": "stream",
     "name": "stdout",
     "text": [
      "+--------------------+--------------------+------------+-----------+-----------+------------+--------------------+--------------------+--------------------+----------------+--------------------+--------------------+------------------+----------------+\n",
      "|          track_name|            track_id|track_number|duration_ms| album_type|total_tracks|          album_name|        release_date|               label|album_popularity|            album_id|           artist_id|       main_artist|featured_artists|\n",
      "+--------------------+--------------------+------------+-----------+-----------+------------+--------------------+--------------------+--------------------+----------------+--------------------+--------------------+------------------+----------------+\n",
      "|Jack Is Dead - Or...|4ZmOXj5x6ER0DSQyD...|           1|     408712|     single|           3|Deep House Sessio...|2012-03-15 00:00:...|Purple Gorilla Re...|               0|0pJsDp2HZWcjscjqj...|04rOJJh4mLlRvlO4W...|    Purple Gorilla|                |\n",
      "|   Anxiety Cleansing|3swob9rRdzvsxpG3V...|           5|      90947|      album|          10|          Deep Relax|2023-08-01 00:00:...|  5673387 Records DK|              17|3FwJmWpxeuabEVQGl...|05hW3BQg4ZuQ0NW0c...|       Deep Purity|                |\n",
      "|The Ace Of Spades...|3qcEe3Ts28cJCvtgN...|           2|     185013|      album|          20|Drew'S Famous # 1...|2011-07-26 00:00:...|        TUTM Karaoke|               0|0pNdSFGthImKG23Cl...|0GRelLAVHzwasg0Ja...|  The Karaoke Crew|                |\n",
      "|               Holly|38uVsyny2NPPNbqbo...|           4|     348136|compilation|           5|Deeperfect Pickin...|2020-06-19 00:00:...|  Deeperfect Records|               3|0HxjY5kDhizVGoMHj...|0LyfQWJT6nXafLPZq...|      Sergio Saffe|                |\n",
      "|Lypsy Mare - Cons...|0FROeX645GpZIAg9K...|           5|     212137|compilation|          20|Deep Power, Vol. ...|2019-08-23 00:00:...|             Dijamma|               2|0vJ3TvLiRujts3LF2...|0LyfQWJT6nXafLPZq...|          Beach 10|                |\n",
      "|          The Wizard|0fc3LuazGVoUrPWD9...|          10|     219716|compilation|          18|Into The Void: A ...|2018-09-07 00:00:...|  Versailles Records|               3|2KaNw6LStEWSHDpzH...|0LyfQWJT6nXafLPZq...|      Erling Solem|                |\n",
      "|               Trust|38maR1Xutez5bw2M4...|           4|     388000|compilation|          22|Deeperfect Ibiza ...|2016-08-26 00:00:...|  Deeperfect Records|               4|2aqck6H3c8xGPrJYT...|0LyfQWJT6nXafLPZq...|     Danny Serrano|                |\n",
      "|  Love And Affection|15PetISFNGdVtxHuS...|           7|     199963|compilation|          12|Deep Purple Recor...|2022-07-15 00:00:...|  Cherry Red Records|               2|5wokgFgNofYNFKQcC...|0LyfQWJT6nXafLPZq...|       Reflections|                |\n",
      "|            On Paper|6VqcZem1yauBTceia...|           4|     372000|compilation|           6|Deeperfect Pickin...|2019-11-01 00:00:...|  Deeperfect Records|               6|70CIhJcIKbnu9fNxm...|0LyfQWJT6nXafLPZq...|            Skizzo|                |\n",
      "|Deep Clockwork - ...|1Jfv853L3b52reZlN...|          18|     232000|compilation|          30|Purple Skies (Lit...|2020-10-12 00:00:...|     Urban GorillazY|               0|7HNl5KwwS0XXu4Bya...|0LyfQWJT6nXafLPZq...|Counter from Venus|     Moontronics|\n",
      "|Killing Floor (In...|7gEMXTgKWzw1McaD1...|           3|     205759|      album|          12|Instrumental Acou...|2014-06-20 00:00:...|       Sleek & Sound|               2|7q7uEMdsJod1ev38k...|0MM6aQIYElwSC4x4D...| AK & The LAX Bros|                |\n",
      "|      Planet Caravan|2qglsHYQICxqnfOtZ...|           8|     274924|      album|          10|Lullaby Versions ...|2023-03-13 00:00:...|     Rock the Cradle|               0|0h6Krr83L4euREpl9...|0UeobiVDEhMVvaUa5...|   Rock the Cradle|                |\n",
      "|             Promise|4KtdVRAiYPiEJfwyV...|           8|     117000|      album|          10|        Human Robots|2023-10-31 00:00:...|SushiBoyz Enterta...|              14|2ff8k3Z2tnJMpCTK5...|0c4XKfiGgVco2yYz6...|    Damien Hendrix|                |\n",
      "|     Different World|3isxh3s4MzNqwZDm8...|           9|     182893|      album|          13|At Home With The ...|2008-10-06 00:00:...|   Letterbox Records|               0|1Qr6RbLUfOIn6HFOo...|0lApUlcr7qxQktia7...|   The Foster Kids|                |\n",
      "|    Times Like These|2JYaPlnbgXuW3Etf9...|          24|     267749|      album|          37|Piano Renditions ...|2020-11-25 00:00:...|       Piano Project|              12|1lSKJf5DBVatYa63Y...|0sOfFTIMocxq5mPB8...|     Piano Project|                |\n",
      "|   I'Ll Stick Around|1Zj87NmGSNbF37KKi...|           3|     224662|      album|          37|Piano Renditions ...|2020-11-25 00:00:...|       Piano Project|              12|1lSKJf5DBVatYa63Y...|0sOfFTIMocxq5mPB8...|     Piano Project|                |\n",
      "|  Gør Nu Ligesom Mig|1ES8vMnv55whAcWvV...|           5|     127800|      album|          16|   Vi Cykler Deruda'|1990-01-01 00:00:...|MBO - The Music B...|              16|2ULFTduMUQWs1gCJH...|0w5Kp7bRzonhDur1l...|       Jimi & René|                |\n",
      "|         Little Wing|2gYAq8koKsDyPgwlR...|           1|     627250|     single|           1|         Little Wing|2023-08-14 00:00:...|  1420847 Records DK|              21|4GwMk9GuObA2S09wn...|1Nplq0ZNsyu1LZUgm...|         Sean Mann|                |\n",
      "|     The Entertainer|3adqAUY8txHeHn4fK...|           3|     193226|      album|          12|Appalachian Favor...|2009-08-08 00:00:...|Maple Street Musi...|               3|4MlT9rnbvFyPSPPOL...|1b0s02qk4DJn7nRUc...|     Jim Hendricks|                |\n",
      "|          Love Chain|3hrANkKKhFrsvOotu...|           8|     200015|      album|          12|Jimmy Griffin The...|2023-03-01 00:00:...|Wraysong Records LLC|               1|1beo4WyHOHHTFG4f1...|1rI3ADlepIisFTBNk...|     Jimmy Griffin|                |\n",
      "+--------------------+--------------------+------------+-----------+-----------+------------+--------------------+--------------------+--------------------+----------------+--------------------+--------------------+------------------+----------------+\n",
      "only showing top 20 rows\n",
      "\n"
     ]
    }
   ]
  },
  {
   "cell_type": "code",
   "source": [
    "# cleaning tracks as required\n",
    "clean_track=track.filter((col(\"track_popularity\") > 50) & (col(\"explicit\")=='false'))\n",
    "clean_track.show()"
   ],
   "metadata": {
    "id": "zVuNVsuGvcZA",
    "colab": {
     "base_uri": "https://localhost:8080/"
    },
    "executionInfo": {
     "status": "ok",
     "timestamp": 1749440528238,
     "user_tz": -330,
     "elapsed": 397,
     "user": {
      "displayName": "mayank jain",
      "userId": "17946635192726345479"
     }
    },
    "outputId": "ba9fa54d-2331-478d-debc-7c9859a18721"
   },
   "execution_count": 21,
   "outputs": [
    {
     "output_type": "stream",
     "name": "stdout",
     "text": [
      "+--------------------+----------------+--------+\n",
      "|                  id|track_popularity|explicit|\n",
      "+--------------------+----------------+--------+\n",
      "|3vR4dOzdMZMeDSGRX...|              51|   false|\n",
      "|0yebM7lJyoX5doGOC...|              51|   false|\n",
      "|5kMvu3XFFvHsb7Fle...|              52|   false|\n",
      "|4CHIJuqR1jLfzA72T...|              52|   false|\n",
      "|5tLDX5Z50VZAvga56...|              52|   false|\n",
      "|4EVwzagXAg5p4zYm4...|              52|   false|\n",
      "|5GJ5uZJiDboTiTPpN...|              52|   false|\n",
      "|3PHCRVk2PdPjhv2EU...|              52|   false|\n",
      "|2XoSLsS75B0BF6CCY...|              52|   false|\n",
      "|24pIscrDqVkkAp9KH...|              52|   false|\n",
      "|5Ny8dTK7mUgpL04RV...|              52|   false|\n",
      "|5WDpxxOIYliyYQ4HS...|              53|   false|\n",
      "|0boRS2EhpwbEvN6TW...|              53|   false|\n",
      "|4kxDa9niTJIyh89af...|              53|   false|\n",
      "|2iQzGiBMP2V6F3his...|              53|   false|\n",
      "|1bVLy04fBPi2JnRpX...|              53|   false|\n",
      "|0vKGvQdkbesI7RGKX...|              54|   false|\n",
      "|6O6ZLs5VuJ6wOSiIB...|              54|   false|\n",
      "|4XbyRgWe6yU4wE6WS...|              54|   false|\n",
      "|5Tq9maJ3ho8ba3v8s...|              54|   false|\n",
      "+--------------------+----------------+--------+\n",
      "only showing top 20 rows\n",
      "\n"
     ]
    }
   ]
  },
  {
   "cell_type": "code",
   "source": [
    "# adding radio_mix column and sorting popularity high to low\n",
    "radio_mix=clean_album.join(clean_track,clean_album.track_id==clean_track.id,\"inner\").withColumn(\"radio_mix\", lit(\"true\"))\\\n",
    ".orderBy(col(\"track_popularity\").desc())\n",
    "radio_mix.show()"
   ],
   "metadata": {
    "id": "n5pZBBU8vcWK",
    "colab": {
     "base_uri": "https://localhost:8080/"
    },
    "executionInfo": {
     "status": "ok",
     "timestamp": 1749442041782,
     "user_tz": -330,
     "elapsed": 13351,
     "user": {
      "displayName": "mayank jain",
      "userId": "17946635192726345479"
     }
    },
    "outputId": "6d6d7271-a84d-43ba-9ddd-6c5cd55fd988"
   },
   "execution_count": 29,
   "outputs": [
    {
     "output_type": "stream",
     "name": "stdout",
     "text": [
      "+--------------------+--------------------+------------+-----------+-----------+------------+--------------------+--------------------+--------------------+----------------+--------------------+--------------------+-----------------+--------------------+--------------------+----------------+--------+---------+\n",
      "|          track_name|            track_id|track_number|duration_ms| album_type|total_tracks|          album_name|        release_date|               label|album_popularity|            album_id|           artist_id|      main_artist|    featured_artists|                  id|track_popularity|explicit|radio_mix|\n",
      "+--------------------+--------------------+------------+-----------+-----------+------------+--------------------+--------------------+--------------------+----------------+--------------------+--------------------+-----------------+--------------------+--------------------+----------------+--------+---------+\n",
      "|All I Want For Ch...|0bYg9bo50gSsH3LtX...|           2|     241106|      album|          10|     Merry Christmas|1994-10-28 00:00:...|            Columbia|              92|61ulfFSmmxMhc2wCd...|4iHNK0tOyZPYnBU7n...|     Mariah Carey|                    |0bYg9bo50gSsH3LtX...|              99|   false|     true|\n",
      "|        Cruel Summer|1BxfuPKGuaTgP7aM0...|           2|     178426|      album|          18|               Lover|2019-08-23 00:00:...|        Taylor Swift|              97|1NAmidJlEaVgA3Mpc...|06HL4z0CvFAxyc27G...|     Taylor Swift|                    |1BxfuPKGuaTgP7aM0...|              99|   false|     true|\n",
      "|My Love Mine All ...|3vkCueOmm7xQDoJ17...|           7|     137773|      album|          11|The Land Is Inhos...|2023-09-15 00:00:...|         Dead Oceans|              90|2Cn1d2KgbkAqbZCJ1...|2uYWxilOVlUdk4oV9...|           Mitski|                    |3vkCueOmm7xQDoJ17...|              98|   false|     true|\n",
      "|       Santa Tell Me|0lizgQ7Qw35od7CYa...|           1|     204093|     single|           1|       Santa Tell Me|2014-11-24 00:00:...|   Universal Records|              86|27MNgBEnLCKoafz1g...|66CXWjxzNUsdJxJ2J...|    Ariana Grande|                    |0lizgQ7Qw35od7CYa...|              95|   false|     true|\n",
      "|One Of The Girls ...|7CyPwkp0oE8Ro9Dd5...|           1|     244684|     single|           3|The Idol Episode ...|2023-06-23 00:00:...|XO / Republic Rec...|              85|7tzVd1fwkxsorytCB...|1Xyo4u8uXC1ZmMpat...|       The Weeknd|JENNIE, Lily-Rose...|7CyPwkp0oE8Ro9Dd5...|              94|   false|     true|\n",
      "|\"What Was I Made ...|6wf7Yu7cxBSPrRlWe...|           1|     222369|compilation|          17|    Barbie The Album|2023-07-21 00:00:...|    Atlantic Records|              78|0BaIaHcyBXuOWeM4A...|0LyfQWJT6nXafLPZq...|    Billie Eilish|                    |6wf7Yu7cxBSPrRlWe...|              94|   false|     true|\n",
      "|           As It Was|4Dvkj6JhhA12EX05f...|           4|     167303|      album|          13|       Harry'S House|2022-05-20 00:00:...|            Columbia|              92|5r36AJ6VOJtp00oxS...|6KImCVD70vtIoJWnq...|     Harry Styles|                    |4Dvkj6JhhA12EX05f...|              94|   false|     true|\n",
      "|\"What Was I Made ...|6wf7Yu7cxBSPrRlWe...|           1|     222369|     single|           1|\"What Was I Made ...|2023-07-13 00:00:...|Darkroom/Intersco...|              84|3AafSrFIbJPH6BJHi...|6qqNVTkY8uBg9cP3J...|    Billie Eilish|                    |6wf7Yu7cxBSPrRlWe...|              94|   false|     true|\n",
      "|Is It Over Now? (...|1Iq8oo9XkmmvCQiGO...|          21|     229477|      album|          21|1989 (Taylor'S Ve...|2023-10-26 00:00:...|        Taylor Swift|              98|64LU4c1nfjz1t4VnG...|06HL4z0CvFAxyc27G...|     Taylor Swift|                    |1Iq8oo9XkmmvCQiGO...|              94|   false|     true|\n",
      "|             Flowers|7DSAEUvxU8FajXtRl...|           1|     200600|      album|          14|Endless Summer Va...|2023-08-18 00:00:...|            Columbia|              87|5DvJgsMLbaR1HmAI6...|5YGY8feqx7naU7z4H...|      Miley Cyrus|                    |7DSAEUvxU8FajXtRl...|              93|   false|     true|\n",
      "|    Jingle Bell Rock|7vQbuQcyTflfCIOu3...|           1|     130973|     single|           2|Jingle Bell Rock/...|1957-12-02 00:00:...|              Geffen|              84|3wivyOdotHWZ9dcuX...|38EmEgXkgK51MT2tP...|      Bobby Helms|                    |7vQbuQcyTflfCIOu3...|              93|   false|     true|\n",
      "|It'S The Most Won...|5hslUAKq9I9CG2bAu...|           4|     151933|      album|          12|The Andy Williams...|1963-11-24 00:00:...|     Columbia/Legacy|              86|4dcJHxlOJwtyypL7s...|4sj6D0zlMOl25nprD...|    Andy Williams|                    |5hslUAKq9I9CG2bAu...|              93|   false|     true|\n",
      "|     Sweater Weather|2QjOHCTQ1Jl3zawyY...|           4|     240400|      album|          11|         I Love You.|2013-04-19 00:00:...|            Columbia|              85|4xkM0BwLM9H2IUcbY...|77SW9BnxLY8rJ0Rci...|The Neighbourhood|                    |2QjOHCTQ1Jl3zawyY...|              93|   false|     true|\n",
      "|You’Re Losing Me ...|3CWq0pAKKTWb0K4yi...|           1|     277831|     single|           1|You'Re Losing Me ...|2023-11-29 00:00:...|        Taylor Swift|              83|5q3jthpn2h59P7pe2...|06HL4z0CvFAxyc27G...|     Taylor Swift|                    |3CWq0pAKKTWb0K4yi...|              92|   false|     true|\n",
      "|           Anti-Hero|0V3wPSX9ygBnCm8ps...|           3|     200690|      album|          13|           Midnights|2022-10-21 00:00:...|        Taylor Swift|              93|151w1FgRZfnKZA9FE...|06HL4z0CvFAxyc27G...|     Taylor Swift|                    |0V3wPSX9ygBnCm8ps...|              92|   false|     true|\n",
      "|     Blinding Lights|0VjIjW4GlUZAMYd2v...|           9|     200040|      album|          14|         After Hours|2020-03-20 00:00:...|    Republic Records|              91|4yP0hdKOZPNshxUOj...|1Xyo4u8uXC1ZmMpat...|       The Weeknd|                    |0VjIjW4GlUZAMYd2v...|              92|   false|     true|\n",
      "|               Lover|1dGr1c8CrMLDpV6mP...|           3|     221306|      album|          18|               Lover|2019-08-23 00:00:...|        Taylor Swift|              97|1NAmidJlEaVgA3Mpc...|06HL4z0CvFAxyc27G...|     Taylor Swift|                    |1dGr1c8CrMLDpV6mP...|              92|   false|     true|\n",
      "|              August|3hUxzQpSfdDqwM3ZT...|           8|     261922|      album|          16|            Folklore|2020-07-24 00:00:...|        Taylor Swift|              92|2fenSS68JI1h4Fo29...|06HL4z0CvFAxyc27G...|     Taylor Swift|                    |3hUxzQpSfdDqwM3ZT...|              91|   false|     true|\n",
      "|   Someone You Loved|7qEHsqek33rTcFNT9...|           4|     182160|      album|          12|Divinely Uninspir...|2019-05-17 00:00:...|      Vertigo Berlin|              86|5658aM19fA3JVwTK6...|4GNC7GD6oZMSxPGyX...|    Lewis Capaldi|                    |7qEHsqek33rTcFNT9...|              91|   false|     true|\n",
      "|Now That We Don'T...|5KD6AEm19QnMbfWpf...|          19|     146436|      album|          21|1989 (Taylor'S Ve...|2023-10-26 00:00:...|        Taylor Swift|              98|64LU4c1nfjz1t4VnG...|06HL4z0CvFAxyc27G...|     Taylor Swift|                    |5KD6AEm19QnMbfWpf...|              91|   false|     true|\n",
      "+--------------------+--------------------+------------+-----------+-----------+------------+--------------------+--------------------+--------------------+----------------+--------------------+--------------------+-----------------+--------------------+--------------------+----------------+--------+---------+\n",
      "only showing top 20 rows\n",
      "\n"
     ]
    }
   ]
  },
  {
   "cell_type": "code",
   "source": [
    "# changing column positions, selecting columns\n",
    "selected_cols = radio_mix.select(\"track_name\",\"track_id\",\"track_number\",\"album_name\",\n",
    "                                 \"album_id\",\"album_type\",\"duration_ms\",\"total_tracks\",\"release_date\",\"label\",\n",
    "                                 \"track_popularity\",\"album_popularity\",\"artist_id\",\"main_artist\",\"featured_artists\",\n",
    "                                 \"explicit\",\"radio_mix\")"
   ],
   "metadata": {
    "id": "R_oDZgt0vcQW",
    "executionInfo": {
     "status": "ok",
     "timestamp": 1749442055226,
     "user_tz": -330,
     "elapsed": 168,
     "user": {
      "displayName": "mayank jain",
      "userId": "17946635192726345479"
     }
    },
    "jupyter": {
     "is_executing": true
    }
   },
   "outputs": [],
   "execution_count": null
  },
  {
   "cell_type": "code",
   "source": [
    "selected_cols.show()"
   ],
   "metadata": {
    "id": "kWemm7uuvcKk",
    "colab": {
     "base_uri": "https://localhost:8080/"
    },
    "executionInfo": {
     "status": "ok",
     "timestamp": 1749442069853,
     "user_tz": -330,
     "elapsed": 12596,
     "user": {
      "displayName": "mayank jain",
      "userId": "17946635192726345479"
     }
    },
    "outputId": "216d672b-1e7b-42f5-f102-351c48f54306"
   },
   "execution_count": 31,
   "outputs": [
    {
     "output_type": "stream",
     "name": "stdout",
     "text": [
      "+--------------------+--------------------+------------+--------------------+--------------------+-----------+-----------+------------+--------------------+--------------------+----------------+----------------+--------------------+-----------------+--------------------+--------+---------+\n",
      "|          track_name|            track_id|track_number|          album_name|            album_id| album_type|duration_ms|total_tracks|        release_date|               label|track_popularity|album_popularity|           artist_id|      main_artist|    featured_artists|explicit|radio_mix|\n",
      "+--------------------+--------------------+------------+--------------------+--------------------+-----------+-----------+------------+--------------------+--------------------+----------------+----------------+--------------------+-----------------+--------------------+--------+---------+\n",
      "|All I Want For Ch...|0bYg9bo50gSsH3LtX...|           2|     Merry Christmas|61ulfFSmmxMhc2wCd...|      album|     241106|          10|1994-10-28 00:00:...|            Columbia|              99|              92|4iHNK0tOyZPYnBU7n...|     Mariah Carey|                    |   false|     true|\n",
      "|        Cruel Summer|1BxfuPKGuaTgP7aM0...|           2|               Lover|1NAmidJlEaVgA3Mpc...|      album|     178426|          18|2019-08-23 00:00:...|        Taylor Swift|              99|              97|06HL4z0CvFAxyc27G...|     Taylor Swift|                    |   false|     true|\n",
      "|My Love Mine All ...|3vkCueOmm7xQDoJ17...|           7|The Land Is Inhos...|2Cn1d2KgbkAqbZCJ1...|      album|     137773|          11|2023-09-15 00:00:...|         Dead Oceans|              98|              90|2uYWxilOVlUdk4oV9...|           Mitski|                    |   false|     true|\n",
      "|       Santa Tell Me|0lizgQ7Qw35od7CYa...|           1|       Santa Tell Me|27MNgBEnLCKoafz1g...|     single|     204093|           1|2014-11-24 00:00:...|   Universal Records|              95|              86|66CXWjxzNUsdJxJ2J...|    Ariana Grande|                    |   false|     true|\n",
      "|One Of The Girls ...|7CyPwkp0oE8Ro9Dd5...|           1|The Idol Episode ...|7tzVd1fwkxsorytCB...|     single|     244684|           3|2023-06-23 00:00:...|XO / Republic Rec...|              94|              85|1Xyo4u8uXC1ZmMpat...|       The Weeknd|JENNIE, Lily-Rose...|   false|     true|\n",
      "|\"What Was I Made ...|6wf7Yu7cxBSPrRlWe...|           1|    Barbie The Album|0BaIaHcyBXuOWeM4A...|compilation|     222369|          17|2023-07-21 00:00:...|    Atlantic Records|              94|              78|0LyfQWJT6nXafLPZq...|    Billie Eilish|                    |   false|     true|\n",
      "|           As It Was|4Dvkj6JhhA12EX05f...|           4|       Harry'S House|5r36AJ6VOJtp00oxS...|      album|     167303|          13|2022-05-20 00:00:...|            Columbia|              94|              92|6KImCVD70vtIoJWnq...|     Harry Styles|                    |   false|     true|\n",
      "|\"What Was I Made ...|6wf7Yu7cxBSPrRlWe...|           1|\"What Was I Made ...|3AafSrFIbJPH6BJHi...|     single|     222369|           1|2023-07-13 00:00:...|Darkroom/Intersco...|              94|              84|6qqNVTkY8uBg9cP3J...|    Billie Eilish|                    |   false|     true|\n",
      "|Is It Over Now? (...|1Iq8oo9XkmmvCQiGO...|          21|1989 (Taylor'S Ve...|64LU4c1nfjz1t4VnG...|      album|     229477|          21|2023-10-26 00:00:...|        Taylor Swift|              94|              98|06HL4z0CvFAxyc27G...|     Taylor Swift|                    |   false|     true|\n",
      "|             Flowers|7DSAEUvxU8FajXtRl...|           1|Endless Summer Va...|5DvJgsMLbaR1HmAI6...|      album|     200600|          14|2023-08-18 00:00:...|            Columbia|              93|              87|5YGY8feqx7naU7z4H...|      Miley Cyrus|                    |   false|     true|\n",
      "|    Jingle Bell Rock|7vQbuQcyTflfCIOu3...|           1|Jingle Bell Rock/...|3wivyOdotHWZ9dcuX...|     single|     130973|           2|1957-12-02 00:00:...|              Geffen|              93|              84|38EmEgXkgK51MT2tP...|      Bobby Helms|                    |   false|     true|\n",
      "|It'S The Most Won...|5hslUAKq9I9CG2bAu...|           4|The Andy Williams...|4dcJHxlOJwtyypL7s...|      album|     151933|          12|1963-11-24 00:00:...|     Columbia/Legacy|              93|              86|4sj6D0zlMOl25nprD...|    Andy Williams|                    |   false|     true|\n",
      "|     Sweater Weather|2QjOHCTQ1Jl3zawyY...|           4|         I Love You.|4xkM0BwLM9H2IUcbY...|      album|     240400|          11|2013-04-19 00:00:...|            Columbia|              93|              85|77SW9BnxLY8rJ0Rci...|The Neighbourhood|                    |   false|     true|\n",
      "|You’Re Losing Me ...|3CWq0pAKKTWb0K4yi...|           1|You'Re Losing Me ...|5q3jthpn2h59P7pe2...|     single|     277831|           1|2023-11-29 00:00:...|        Taylor Swift|              92|              83|06HL4z0CvFAxyc27G...|     Taylor Swift|                    |   false|     true|\n",
      "|           Anti-Hero|0V3wPSX9ygBnCm8ps...|           3|           Midnights|151w1FgRZfnKZA9FE...|      album|     200690|          13|2022-10-21 00:00:...|        Taylor Swift|              92|              93|06HL4z0CvFAxyc27G...|     Taylor Swift|                    |   false|     true|\n",
      "|     Blinding Lights|0VjIjW4GlUZAMYd2v...|           9|         After Hours|4yP0hdKOZPNshxUOj...|      album|     200040|          14|2020-03-20 00:00:...|    Republic Records|              92|              91|1Xyo4u8uXC1ZmMpat...|       The Weeknd|                    |   false|     true|\n",
      "|               Lover|1dGr1c8CrMLDpV6mP...|           3|               Lover|1NAmidJlEaVgA3Mpc...|      album|     221306|          18|2019-08-23 00:00:...|        Taylor Swift|              92|              97|06HL4z0CvFAxyc27G...|     Taylor Swift|                    |   false|     true|\n",
      "|              August|3hUxzQpSfdDqwM3ZT...|           8|            Folklore|2fenSS68JI1h4Fo29...|      album|     261922|          16|2020-07-24 00:00:...|        Taylor Swift|              91|              92|06HL4z0CvFAxyc27G...|     Taylor Swift|                    |   false|     true|\n",
      "|   Someone You Loved|7qEHsqek33rTcFNT9...|           4|Divinely Uninspir...|5658aM19fA3JVwTK6...|      album|     182160|          12|2019-05-17 00:00:...|      Vertigo Berlin|              91|              86|4GNC7GD6oZMSxPGyX...|    Lewis Capaldi|                    |   false|     true|\n",
      "|Now That We Don'T...|5KD6AEm19QnMbfWpf...|          19|1989 (Taylor'S Ve...|64LU4c1nfjz1t4VnG...|      album|     146436|          21|2023-10-26 00:00:...|        Taylor Swift|              91|              98|06HL4z0CvFAxyc27G...|     Taylor Swift|                    |   false|     true|\n",
      "+--------------------+--------------------+------------+--------------------+--------------------+-----------+-----------+------------+--------------------+--------------------+----------------+----------------+--------------------+-----------------+--------------------+--------+---------+\n",
      "only showing top 20 rows\n",
      "\n"
     ]
    }
   ]
  },
  {
   "cell_type": "code",
   "source": [
    "# writing to bigquery\n",
    "selected_cols.write.format(\"bigquery\") \\\n",
    "    .option(\"table\", \"project:dataset.table\") \\\n",
    "    .option(\"temporaryGcsBucket\", \"temp-bucket-name\") \\\n",
    "    .mode(\"overwrite\") \\\n",
    "    .save()"
   ],
   "metadata": {
    "id": "NMjkMHGZ3Ikp"
   },
   "execution_count": null,
   "outputs": []
  }
 ]
}
